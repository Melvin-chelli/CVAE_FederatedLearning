{
 "cells": [
  {
   "cell_type": "code",
   "execution_count": 11,
   "metadata": {},
   "outputs": [],
   "source": [
    "import torch\n",
    "from torch import nn\n",
    "import numpy as np\n",
    "from sklearn.model_selection import train_test_split\n",
    "from torchvision import datasets\n",
    "from torchvision.transforms import ToTensor\n",
    "import matplotlib.pyplot as plt \n"
   ]
  },
  {
   "cell_type": "code",
   "execution_count": 12,
   "metadata": {},
   "outputs": [],
   "source": [
    "device=\"cuda\" if torch.cuda.is_available() else \"cpu\"\n",
    "train_data = datasets.MNIST(root=\"../data\", train=True, \n",
    "    download=True,\n",
    "    transform=ToTensor(),\n",
    "    target_transform=None\n",
    ")\n",
    "\n",
    "test_data = datasets.MNIST(root=\"../data\", train=False,\n",
    "    download=True,\n",
    "    transform=ToTensor(),\n",
    "    target_transform=None)\n",
    "\n",
    "from torch.utils.data import DataLoader\n",
    "\n",
    "train_dataloader = DataLoader(train_data, batch_size=32, shuffle=True, num_workers=4)\n",
    "test_dataloader = DataLoader(test_data, batch_size=32, shuffle=False, num_workers=4)"
   ]
  },
  {
   "cell_type": "code",
   "execution_count": 13,
   "metadata": {},
   "outputs": [],
   "source": [
    "import torch.nn.functional as F"
   ]
  },
  {
   "cell_type": "code",
   "execution_count": 14,
   "metadata": {},
   "outputs": [],
   "source": [
    "class Encoder(nn.Module):\n",
    "    def __init__(self, dim_x, dim_y, dim_z):\n",
    "\n",
    "        super().__init__()\n",
    "        self.layer1 = nn.Conv2d(in_channels=1, out_channels=32, kernel_size=5, stride=1,padding='same')\n",
    "        self.layer4 = nn.Conv2d(in_channels=32, out_channels=32, kernel_size=5, stride=2,padding=0)\n",
    "        self.layer6 = nn.Conv2d(in_channels=32, out_channels=64, kernel_size=5, stride=1,padding='same')\n",
    "        self.layer8 = nn.Conv2d(in_channels=64, out_channels=64, kernel_size=5, stride=2,padding=0)\n",
    "        self.layer10 = nn.Conv2d(in_channels=64, out_channels=80, kernel_size=7, stride=1,padding='valid')\n",
    "    \n",
    "    def forward(self, x):\n",
    "        x = F.leaky_relu(self.layer1(x))\n",
    "        print(x.shape)\n",
    "        # 32, 28, 28\n",
    "        x = F.pad(x, (0,3,0,3))\n",
    "        print(x.shape)\n",
    "        # 32, 31, 31\n",
    "        x = self.layer4(x)\n",
    "        print(x.shape)\n",
    "        # 32, 14, 14\n",
    "        x = F.leaky_relu(x)\n",
    "        x = self.layer6(x)\n",
    "        print(x.shape)\n",
    "        # 64, 14, 14\n",
    "        x = F.pad(x, (0,3,0,3))\n",
    "        print(x.shape)\n",
    "        # 64, 17, 17\n",
    "        x = self.layer8(x)\n",
    "        print(x.shape)\n",
    "        # 64, 7, 7\n",
    "        x = F.leaky_relu(x)\n",
    "        x = self.layer10(x)\n",
    "        print(x.shape)\n",
    "        # 80, 1, 1\n",
    "        x = x.view(-1)\n",
    "        print(x.shape)\n",
    "        return x"
   ]
  },
  {
   "cell_type": "code",
   "execution_count": 15,
   "metadata": {},
   "outputs": [],
   "source": [
    "device = \"cuda\" if torch.cuda.is_available() else \"cpu\""
   ]
  },
  {
   "cell_type": "code",
   "execution_count": 16,
   "metadata": {},
   "outputs": [
    {
     "name": "stdout",
     "output_type": "stream",
     "text": [
      "torch.Size([1, 32, 28, 28])\n",
      "torch.Size([1, 32, 31, 31])\n",
      "torch.Size([1, 32, 14, 14])\n",
      "torch.Size([1, 64, 14, 14])\n",
      "torch.Size([1, 64, 17, 17])\n",
      "torch.Size([1, 64, 7, 7])\n",
      "torch.Size([1, 80, 1, 1])\n",
      "torch.Size([80])\n"
     ]
    }
   ],
   "source": [
    "model = Encoder(dim_x=28, dim_y=10, dim_z=20).to(device)     \n",
    "\n",
    "di = torch.randn(1,28,28).unsqueeze(dim=0);\n",
    "di = di.cuda();\n",
    "o = model(di);\n"
   ]
  },
  {
   "cell_type": "code",
   "execution_count": 17,
   "metadata": {},
   "outputs": [
    {
     "name": "stdout",
     "output_type": "stream",
     "text": [
      "torch.Size([2, 32, 28, 28])\n",
      "torch.Size([2, 32, 31, 31])\n",
      "torch.Size([2, 32, 14, 14])\n",
      "torch.Size([2, 64, 14, 14])\n",
      "torch.Size([2, 64, 17, 17])\n",
      "torch.Size([2, 64, 7, 7])\n",
      "torch.Size([2, 80, 1, 1])\n",
      "torch.Size([160])\n",
      "----------------------------------------------------------------\n",
      "        Layer (type)               Output Shape         Param #\n",
      "================================================================\n",
      "            Conv2d-1           [-1, 32, 28, 28]             832\n",
      "            Conv2d-2           [-1, 32, 14, 14]          25,632\n",
      "            Conv2d-3           [-1, 64, 14, 14]          51,264\n",
      "            Conv2d-4             [-1, 64, 7, 7]         102,464\n",
      "            Conv2d-5             [-1, 80, 1, 1]         250,960\n",
      "================================================================\n",
      "Total params: 431,152\n",
      "Trainable params: 431,152\n",
      "Non-trainable params: 0\n",
      "----------------------------------------------------------------\n",
      "Input size (MB): 0.00\n",
      "Forward/backward pass size (MB): 0.36\n",
      "Params size (MB): 1.64\n",
      "Estimated Total Size (MB): 2.01\n",
      "----------------------------------------------------------------\n"
     ]
    }
   ],
   "source": [
    "from torchsummary import summary\n",
    "summary(model, (1,28,28))"
   ]
  },
  {
   "cell_type": "code",
   "execution_count": 18,
   "metadata": {},
   "outputs": [],
   "source": [
    "loss_fn = torch.nn.BCELoss()\n",
    "optimizer = torch.optim.SGD(params=model.parameters(), lr=0.001)"
   ]
  },
  {
   "cell_type": "code",
   "execution_count": 19,
   "metadata": {},
   "outputs": [],
   "source": [
    "def accuracy_fn(y_true, y_pred):\n",
    "    \"\"\"Calculates accuracy between truth labels and predictions.\n",
    "\n",
    "    Args:\n",
    "        y_true (torch.Tensor): Truth labels for predictions.\n",
    "        y_pred (torch.Tensor): Predictions to be compared to predictions.\n",
    "\n",
    "    Returns:\n",
    "        [torch.float]: Accuracy value between y_true and y_pred, e.g. 78.45\n",
    "    \"\"\"\n",
    "    correct = torch.eq(y_true, y_pred).sum().item()\n",
    "    acc = (correct / len(y_pred)) * 100\n",
    "    return acc"
   ]
  },
  {
   "cell_type": "code",
   "execution_count": null,
   "metadata": {},
   "outputs": [],
   "source": [
    "# # Import tqdm for progress bar\n",
    "# from tqdm.auto import tqdm\n",
    "\n",
    "# # Set the seed and start the timer\n",
    "# torch.manual_seed(42)\n",
    "\n",
    "# # Set the number of epochs (we'll keep this small for faster training times)\n",
    "# epochs = 50\n",
    "\n",
    "# # Create training and testing loop\n",
    "# for epoch in tqdm(range(epochs)):\n",
    "#     print(f\"Epoch: {epoch}\\n-------\")\n",
    "#     ### Training\n",
    "#     train_loss = 0\n",
    "#     # Add a loop to loop through training batches\n",
    "#     for batch, (X, y) in enumerate(train_dataloader):\n",
    "#         model.train() \n",
    "#         # 1. Forward pass\n",
    "#         X = X.to(device)\n",
    "#         y = y.to(device)\n",
    "#         y = torch.nn.functional.one_hot(y, 10).to(torch.float32)\n",
    "#         y_pred = model(X)\n",
    "        \n",
    "#         # 2. Calculate loss (per batch)\n",
    "#         loss = loss_fn(y_pred, y)\n",
    "#         train_loss += loss # accumulatively add up the loss per epoch \n",
    "\n",
    "#         # 3. Optimizer zero grad\n",
    "#         optimizer.zero_grad()\n",
    "\n",
    "#         # 4. Loss backward\n",
    "#         loss.backward()\n",
    "\n",
    "#         # 5. Optimizer step\n",
    "#         optimizer.step()\n",
    "\n",
    "#         # Print out how many samples have been seen\n",
    "#         if batch % 400 == 0:\n",
    "#             print(f\"Looked at {batch * len(X)}/{len(train_dataloader.dataset)} samples\")\n",
    "\n",
    "#     # Divide total train loss by length of train dataloader (average loss per batch per epoch)\n",
    "#     train_loss /= len(train_dataloader)\n",
    "    \n",
    "#     ### Testing\n",
    "#     # Setup variables for accumulatively adding up loss and accuracy \n",
    "#     test_loss, test_acc = 0, 0 \n",
    "#     model.eval()\n",
    "#     with torch.inference_mode():\n",
    "#         for X, y in test_dataloader:\n",
    "#             X = X.to(device)\n",
    "#             y = y.to(device)    \n",
    "#             y = torch.nn.functional.one_hot(y, 10).to(torch.float32)\n",
    "#             # 1. Forward pass\n",
    "#             test_pred = model(X)\n",
    "           \n",
    "#             # 2. Calculate loss (accumatively)\n",
    "#             test_loss += loss_fn(test_pred, y) # accumulatively add up the loss per epoch\n",
    "\n",
    "#             # 3. Calculate accuracy (preds need to be same as y_true)\n",
    "#             test_acc += accuracy_fn(y_true=y.argmax(dim=1), y_pred=test_pred.argmax(dim=1))\n",
    "        \n",
    "#         # Calculations on test metrics need to happen inside torch.inference_mode()\n",
    "#         # Divide total test loss by length of test dataloader (per batch)\n",
    "#         test_loss /= len(test_dataloader)\n",
    "\n",
    "#         # Divide total accuracy by length of test dataloader (per batch)\n",
    "#         test_acc /= len(test_dataloader)\n",
    "\n",
    "#     ## Print out what's happening\n",
    "#     print(f\"\\nTrain loss: {train_loss:.5f} | Test loss: {test_loss:.5f}, Test acc: {test_acc:.2f}%\\n\")\n"
   ]
  }
 ],
 "metadata": {
  "kernelspec": {
   "display_name": "Python 3.8.12 ('base')",
   "language": "python",
   "name": "python3"
  },
  "language_info": {
   "codemirror_mode": {
    "name": "ipython",
    "version": 3
   },
   "file_extension": ".py",
   "mimetype": "text/x-python",
   "name": "python",
   "nbconvert_exporter": "python",
   "pygments_lexer": "ipython3",
   "version": "3.8.12"
  },
  "orig_nbformat": 4,
  "vscode": {
   "interpreter": {
    "hash": "d4d1e4263499bec80672ea0156c357c1ee493ec2b1c70f0acce89fc37c4a6abe"
   }
  }
 },
 "nbformat": 4,
 "nbformat_minor": 2
}
