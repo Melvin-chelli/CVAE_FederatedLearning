{
 "cells": [
  {
   "cell_type": "code",
   "execution_count": 1,
   "metadata": {},
   "outputs": [],
   "source": [
    "import torch\n",
    "from torch import nn\n",
    "import numpy as np\n",
    "from sklearn.model_selection import train_test_split\n",
    "from torchvision import datasets\n",
    "from torchvision.transforms import ToTensor\n",
    "import matplotlib.pyplot as plt \n"
   ]
  },
  {
   "cell_type": "code",
   "execution_count": 8,
   "metadata": {},
   "outputs": [],
   "source": [
    "batch_size = 32\n",
    "device=\"cuda\" if torch.cuda.is_available() else \"cpu\"\n",
    "train_data = datasets.MNIST(root=\"../data\", train=True, \n",
    "    download=True,\n",
    "    transform=ToTensor(),\n",
    "    target_transform=None\n",
    ")\n",
    "\n",
    "test_data = datasets.MNIST(root=\"../data\", train=False,\n",
    "    download=True,\n",
    "    transform=ToTensor(),\n",
    "    target_transform=None)\n",
    "\n",
    "from torch.utils.data import DataLoader\n",
    "\n",
    "train_dataloader = DataLoader(train_data, batch_size=batch_size, shuffle=True, num_workers=4)\n",
    "test_dataloader = DataLoader(test_data, batch_size=batch_size, shuffle=False, num_workers=4)"
   ]
  },
  {
   "cell_type": "code",
   "execution_count": 9,
   "metadata": {},
   "outputs": [],
   "source": [
    "import torch.nn.functional as F"
   ]
  },
  {
   "cell_type": "code",
   "execution_count": 60,
   "metadata": {},
   "outputs": [],
   "source": [
    "class Encoder(nn.Module):\n",
    "    def __init__(self, dim_x, dim_y, dim_z):\n",
    "\n",
    "        super().__init__()\n",
    "         # Encoder layers\n",
    "        self.conv1 = nn.Conv2d(in_channels=1, out_channels=32, kernel_size=5, stride=1,padding='same')\n",
    "        self.conv2 = nn.Conv2d(in_channels=32, out_channels=32, kernel_size=5, stride=2,padding=0)\n",
    "        self.conv3 = nn.Conv2d(in_channels=32, out_channels=64, kernel_size=5, stride=1,padding='same')\n",
    "        self.conv4 = nn.Conv2d(in_channels=64, out_channels=64, kernel_size=5, stride=2,padding=0)\n",
    "        self.conv5 = nn.Conv2d(in_channels=64, out_channels=80, kernel_size=7, stride=1,padding='valid')\n",
    "        self.lin1 = nn.Linear(in_features=90, out_features=20)\n",
    "        self.lin2 = nn.Linear(in_features=90, out_features=20)\n",
    "\n",
    "        # reparameterization\n",
    "    def reparameterize(self, mu, logvar):\n",
    "        std = torch.exp(0.5*logvar)\n",
    "        eps = torch.randn_like(std)\n",
    "        return mu + eps*std\n",
    "    \n",
    "    def forward(self, inputs):\n",
    "        x = inputs[0].to(device)#.unsqueeze(dim=0)\n",
    "        y = inputs[1].to(device)\n",
    "        y = F.one_hot(y, 10)\n",
    "        print(f\"img shape: {x.shape}, labels shape: {y.shape}\")\n",
    "        x = F.leaky_relu(self.conv1(x))\n",
    "        print(x.shape)\n",
    "        # 32, 28, 28\n",
    "        x = F.pad(x, (0,3,0,3))\n",
    "        print(x.shape)\n",
    "        # 32, 31, 31\n",
    "        x = F.leaky_relu(self.conv2(x))\n",
    "        print(x.shape)\n",
    "        # 32, 14, 14\n",
    "        x = F.leaky_relu(self.conv3(x))\n",
    "        print(x.shape)\n",
    "        # 64, 14, 14\n",
    "        x = F.pad(x, (0,3,0,3))\n",
    "        print(x.shape)\n",
    "        # 64, 17, 17\n",
    "        x = F.leaky_relu(self.conv4(x))\n",
    "        print(x.shape)\n",
    "        # 64, 7, 7\n",
    "        x = F.leaky_relu(self.conv5(x))\n",
    "        print(x.shape)\n",
    "        # 80, 1, 1\n",
    "        x = torch.flatten(x, start_dim=1, end_dim=-1)\n",
    "        print(f\"After flatten shape: {x.shape}\")\n",
    "        # 80\n",
    "        mu_logvar = torch.cat([x, y], dim=1)\n",
    "        print(f\"After concatenation shape: {mu_logvar.shape}\")\n",
    "        # 90\n",
    "        mu = self.lin1(mu_logvar)\n",
    "        print(f\"mu shape: {mu.shape}\")\n",
    "        # 40\n",
    "        logvar = self.lin2(mu_logvar)\n",
    "        print(f\"logvar shape: {logvar.shape}\")\n",
    "        z = self.reparameterize(mu, logvar)\n",
    "        print(f\"Returning shape {z.shape}\")\n",
    "        return mu, logvar, z"
   ]
  },
  {
   "cell_type": "code",
   "execution_count": null,
   "metadata": {},
   "outputs": [],
   "source": [
    "class Decoder(nn.Module):\n",
    "    def __init__(self, dim_z, dim_y):\n",
    "        super().__init__()\n",
    "        #\n",
    "        #\n",
    "        #\n",
    "\n",
    "    def forward(self, x):\n",
    "        pass"
   ]
  },
  {
   "cell_type": "code",
   "execution_count": null,
   "metadata": {},
   "outputs": [],
   "source": [
    "class CVAE(nn.Module):\n",
    "    def __init__(self, dim_x, dim_y, dim_z):\n",
    "        super().__init__()\n",
    "\n",
    "        self.encoder = Encoder(dim_x, dim_y, dim_z)\n",
    "        self.decoder = Decoder(dim_z, dim_y)\n",
    "\n",
    "    def forward(self, x):\n",
    "        mu, logvar, z = self.encoder(x)\n",
    "        x_hat = self.decoder(z)\n",
    "        return mu, logvar, z, x_hat"
   ]
  },
  {
   "cell_type": "code",
   "execution_count": 61,
   "metadata": {},
   "outputs": [],
   "source": [
    "device = \"cuda\" if torch.cuda.is_available() else \"cpu\""
   ]
  },
  {
   "cell_type": "code",
   "execution_count": 62,
   "metadata": {},
   "outputs": [
    {
     "name": "stdout",
     "output_type": "stream",
     "text": [
      "img shape: torch.Size([32, 1, 28, 28]), labels shape: torch.Size([32, 10])\n",
      "torch.Size([32, 32, 28, 28])\n",
      "torch.Size([32, 32, 31, 31])\n",
      "torch.Size([32, 32, 14, 14])\n",
      "torch.Size([32, 64, 14, 14])\n",
      "torch.Size([32, 64, 17, 17])\n",
      "torch.Size([32, 64, 7, 7])\n",
      "torch.Size([32, 80, 1, 1])\n",
      "After flatten shape: torch.Size([32, 80])\n",
      "After concatenation shape: torch.Size([32, 90])\n",
      "mu shape: torch.Size([32, 20])\n",
      "logvar shape: torch.Size([32, 20])\n",
      "Returning shape torch.Size([32, 20])\n"
     ]
    }
   ],
   "source": [
    "model = Encoder(dim_x=28, dim_y=10, dim_z=20).to(device)     \n",
    "i=50\n",
    "# img=train_data[:10][0]\n",
    "# lbl=train_data[:10][1]\n",
    "# plt.imshow(img.squeeze())\n",
    "# print(lbl)\n",
    "\n",
    "for batch, (img, label) in enumerate(train_dataloader):\n",
    "    out = model((img, label))\n",
    "    break\n",
    "\n",
    "\n",
    "# inputs=(img, lbl)\n",
    "# out = model(inputs)\n",
    "#\n",
    "# lblon"
   ]
  },
  {
   "cell_type": "code",
   "execution_count": 49,
   "metadata": {},
   "outputs": [],
   "source": [
    "loss_fn = torch.nn.BCELoss()\n",
    "optimizer = torch.optim.SGD(params=model.parameters(), lr=0.001)"
   ]
  },
  {
   "cell_type": "code",
   "execution_count": 50,
   "metadata": {},
   "outputs": [],
   "source": [
    "def accuracy_fn(y_true, y_pred):\n",
    "    \"\"\"Calculates accuracy between truth labels and predictions.\n",
    "\n",
    "    Args:\n",
    "        y_true (torch.Tensor): Truth labels for predictions.\n",
    "        y_pred (torch.Tensor): Predictions to be compared to predictions.\n",
    "\n",
    "    Returns:\n",
    "        [torch.float]: Accuracy value between y_true and y_pred, e.g. 78.45\n",
    "    \"\"\"\n",
    "    correct = torch.eq(y_true, y_pred).sum().item()\n",
    "    acc = (correct / len(y_pred)) * 100\n",
    "    return acc"
   ]
  },
  {
   "cell_type": "code",
   "execution_count": null,
   "metadata": {},
   "outputs": [],
   "source": [
    "# # Import tqdm for progress bar\n",
    "# from tqdm.auto import tqdm\n",
    "\n",
    "# # Set the seed and start the timer\n",
    "# torch.manual_seed(42)\n",
    "\n",
    "# # Set the number of epochs (we'll keep this small for faster training times)\n",
    "# epochs = 50\n",
    "\n",
    "# # Create training and testing loop\n",
    "# for epoch in tqdm(range(epochs)):\n",
    "#     print(f\"Epoch: {epoch}\\n-------\")\n",
    "#     ### Training\n",
    "#     train_loss = 0\n",
    "#     # Add a loop to loop through training batches\n",
    "#     for batch, (X, y) in enumerate(train_dataloader):\n",
    "#         model.train() \n",
    "#         # 1. Forward pass\n",
    "#         X = X.to(device)\n",
    "#         y = y.to(device)\n",
    "#         y = torch.nn.functional.one_hot(y, 10).to(torch.float32)\n",
    "#         y_pred = model(X)\n",
    "        \n",
    "#         # 2. Calculate loss (per batch)\n",
    "#         loss = loss_fn(y_pred, y)\n",
    "#         train_loss += loss # accumulatively add up the loss per epoch \n",
    "\n",
    "#         # 3. Optimizer zero grad\n",
    "#         optimizer.zero_grad()\n",
    "\n",
    "#         # 4. Loss backward\n",
    "#         loss.backward()\n",
    "\n",
    "#         # 5. Optimizer step\n",
    "#         optimizer.step()\n",
    "\n",
    "#         # Print out how many samples have been seen\n",
    "#         if batch % 400 == 0:\n",
    "#             print(f\"Looked at {batch * len(X)}/{len(train_dataloader.dataset)} samples\")\n",
    "\n",
    "#     # Divide total train loss by length of train dataloader (average loss per batch per epoch)\n",
    "#     train_loss /= len(train_dataloader)\n",
    "    \n",
    "#     ### Testing\n",
    "#     # Setup variables for accumulatively adding up loss and accuracy \n",
    "#     test_loss, test_acc = 0, 0 \n",
    "#     model.eval()\n",
    "#     with torch.inference_mode():\n",
    "#         for X, y in test_dataloader:\n",
    "#             X = X.to(device)\n",
    "#             y = y.to(device)    \n",
    "#             y = torch.nn.functional.one_hot(y, 10).to(torch.float32)\n",
    "#             # 1. Forward pass\n",
    "#             test_pred = model(X)\n",
    "           \n",
    "#             # 2. Calculate loss (accumatively)\n",
    "#             test_loss += loss_fn(test_pred, y) # accumulatively add up the loss per epoch\n",
    "\n",
    "#             # 3. Calculate accuracy (preds need to be same as y_true)\n",
    "#             test_acc += accuracy_fn(y_true=y.argmax(dim=1), y_pred=test_pred.argmax(dim=1))\n",
    "        \n",
    "#         # Calculations on test metrics need to happen inside torch.inference_mode()\n",
    "#         # Divide total test loss by length of test dataloader (per batch)\n",
    "#         test_loss /= len(test_dataloader)\n",
    "\n",
    "#         # Divide total accuracy by length of test dataloader (per batch)\n",
    "#         test_acc /= len(test_dataloader)\n",
    "\n",
    "#     ## Print out what's happening\n",
    "#     print(f\"\\nTrain loss: {train_loss:.5f} | Test loss: {test_loss:.5f}, Test acc: {test_acc:.2f}%\\n\")\n"
   ]
  },
  {
   "cell_type": "code",
   "execution_count": null,
   "metadata": {},
   "outputs": [],
   "source": [
    "y = torch.tensor(inputs[1], dtype=torch.int8).unsqueeze(dim=0)\n",
    "y.shape"
   ]
  },
  {
   "cell_type": "code",
   "execution_count": null,
   "metadata": {},
   "outputs": [],
   "source": [
    "y=y.unsqueeze(dim=0)\n",
    "y.shape"
   ]
  },
  {
   "cell_type": "code",
   "execution_count": null,
   "metadata": {},
   "outputs": [],
   "source": [
    "F.one_hot(5, 10)"
   ]
  },
  {
   "cell_type": "code",
   "execution_count": null,
   "metadata": {},
   "outputs": [],
   "source": []
  }
 ],
 "metadata": {
  "kernelspec": {
   "display_name": "Python 3.8.12 ('base')",
   "language": "python",
   "name": "python3"
  },
  "language_info": {
   "codemirror_mode": {
    "name": "ipython",
    "version": 3
   },
   "file_extension": ".py",
   "mimetype": "text/x-python",
   "name": "python",
   "nbconvert_exporter": "python",
   "pygments_lexer": "ipython3",
   "version": "3.8.12"
  },
  "orig_nbformat": 4,
  "vscode": {
   "interpreter": {
    "hash": "d4d1e4263499bec80672ea0156c357c1ee493ec2b1c70f0acce89fc37c4a6abe"
   }
  }
 },
 "nbformat": 4,
 "nbformat_minor": 2
}
